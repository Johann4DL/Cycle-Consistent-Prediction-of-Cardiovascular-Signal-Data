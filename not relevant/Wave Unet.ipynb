{
 "cells": [
  {
   "cell_type": "code",
   "execution_count": 4,
   "metadata": {},
   "outputs": [],
   "source": [
    "import torch\n",
    "import torch.nn as nn"
   ]
  },
  {
   "cell_type": "code",
   "execution_count": 7,
   "metadata": {},
   "outputs": [],
   "source": [
    "def double_conv(in_channels, out_channels):\n",
    "    return nn.Sequential(\n",
    "        nn.Conv1d(in_channels, out_channels, kernel_size=3), #, padding=1, padding_mode='zeros'),\n",
    "        nn.LeakyReLU(inplace=True),\n",
    "        nn.Conv1d(out_channels, out_channels, kernel_size=3), #, padding=1, padding_mode='zeros'),\n",
    "        nn.LeakyReLU(inplace=True)\n",
    "    )  \n",
    "\n",
    "def crop_tensor(tensor, target_tensor):\n",
    "     target_size = target_tensor.size()[2]\n",
    "     tensor_size = tensor.size()[2]\n",
    "     # assumption: because we crop, tensor_size > target_size\n",
    "     delta = tensor_size - target_size\n",
    "     delta = delta // 2\n",
    "     return tensor[:, :, delta:tensor_size-delta]\n",
    " \n",
    "\n",
    "class Unet(nn.Module):\n",
    "    def __init__(self):\n",
    "        super(Unet, self).__init__()\n",
    "        self.maxpool = nn.MaxPool1d(2) # stide = kernel_size = 2\n",
    "\n",
    "        self.down_conv1 = double_conv(1, 64) \n",
    "        self.down_conv2 = double_conv(64, 128) \n",
    "        self.down_conv3 = double_conv(128, 256)\n",
    "        self.down_conv4 = double_conv(256, 512)\n",
    "        self.down_conv5 = double_conv(512, 1024)\n",
    "\n",
    "        self.up_trans1 = nn.ConvTranspose1d(1024, 512, kernel_size=2, stride=2)\n",
    "        self.up_conv1 = double_conv(1024, 512)\n",
    "        self.up_trans2 = nn.ConvTranspose1d(512, 256, kernel_size=2, stride=2)\n",
    "        self.up_conv2 = double_conv(512, 256)\n",
    "        self.up_trans3 = nn.ConvTranspose1d(256, 128, kernel_size=2, stride=2)\n",
    "        self.up_conv3 = double_conv(256, 128)\n",
    "        self.up_trans4 = nn.ConvTranspose1d(128, 64, kernel_size=2, stride=2)\n",
    "        self.up_conv4 = double_conv(128, 64)\n",
    "        self.up_trans5 = nn.ConvTranspose1d(64, 1, kernel_size=2, stride=2)\n",
    "        \n",
    "\n",
    "    def forward(self, input):\n",
    "        # batch_size, channels, tensor_size\n",
    "        # encoder input -> 1, 1, 572\n",
    "        x1 = self.down_conv1(input)   \n",
    "        x2 = self.maxpool(x1) \n",
    "        x3 = self.down_conv2(x2) \n",
    "        x4 = self.maxpool(x3)  \n",
    "        x5 = self.down_conv3(x4)  \n",
    "        x6 = self.maxpool(x5)  \n",
    "        x7 = self.down_conv4(x6)  \n",
    "        x8 = self.maxpool(x7) \n",
    "        x9 = self.down_conv5(x8)  \n",
    "\n",
    "        # decoder \n",
    "        x = self.up_trans1(x9)  \n",
    "        y = crop_tensor(x7, x)\n",
    "        x = self.up_conv1(torch.cat([x, y], 1)) \n",
    "        x = self.up_trans2(x) \n",
    "        y = crop_tensor(x5, x)\n",
    "        x = self.up_conv2(torch.cat([x, y], 1))\n",
    "        x = self.up_trans3(x)\n",
    "        y = crop_tensor(x3, x)\n",
    "        x = self.up_conv3(torch.cat([x, y], 1))\n",
    "        x = self.up_trans4(x)\n",
    "        y = crop_tensor(x1, x)\n",
    "        x = self.up_conv4(torch.cat([x, y], 1))\n",
    "        #print(x.size()) \n",
    "        return x \n",
    "        "
   ]
  },
  {
   "cell_type": "code",
   "execution_count": 9,
   "metadata": {},
   "outputs": [
    {
     "name": "stdout",
     "output_type": "stream",
     "text": [
      "torch.Size([1, 64, 388])\n"
     ]
    }
   ],
   "source": [
    "x = torch.rand(1, 1, 572)\n",
    "model = Unet()\n",
    "print(model(x).size())"
   ]
  }
 ],
 "metadata": {
  "kernelspec": {
   "display_name": "pytorch",
   "language": "python",
   "name": "python3"
  },
  "language_info": {
   "codemirror_mode": {
    "name": "ipython",
    "version": 3
   },
   "file_extension": ".py",
   "mimetype": "text/x-python",
   "name": "python",
   "nbconvert_exporter": "python",
   "pygments_lexer": "ipython3",
   "version": "3.9.15"
  },
  "orig_nbformat": 4
 },
 "nbformat": 4,
 "nbformat_minor": 2
}
